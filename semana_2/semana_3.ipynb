{
 "cells": [
  {
   "cell_type": "markdown",
   "metadata": {},
   "source": [
    "## Assignment 3\n",
    "All questions are weighted the same in this assignment. This assignment requires more individual learning then the last one did - you are encouraged to check out the pandas documentation to find functions or methods you might not have used yet, or ask questions on Stack Overflow and tag them as pandas and python related. All questions are worth the same number of points except question 1 which is worth 17% of the assignment grade.\n",
    "\n",
    "Note: Questions 2-13 rely on your question 1 answer.\n",
    "\n",
    "import pandas as pd"
   ]
  },
  {
   "cell_type": "code",
   "execution_count": null,
   "metadata": {},
   "outputs": [],
   "source": [
    "import pandas as pd\n",
    "import numpy as np\n",
    "\n",
    "# Filter all warnings. If you would like to see the warnings, please comment the two lines below.\n",
    "import warnings\n",
    "warnings.filterwarnings('ignore')"
   ]
  },
  {
   "cell_type": "markdown",
   "metadata": {},
   "source": [
    "### Question 1\n",
    "Load the energy data from the file assets/Energy Indicators.xls, which is a list of indicators of energy supply and renewable electricity production from the United Nations for the year 2013, and should be put into a DataFrame with the variable name of Energy.\n",
    "\n",
    "Keep in mind that this is an Excel file, and not a comma separated values file. Also, make sure to exclude the footer and header information from the datafile. The first two columns are unneccessary, so you should get rid of them, and you should change the column labels so that the columns are:\n",
    "\n",
    "['Country', 'Energy Supply', 'Energy Supply per Capita', '% Renewable]\n",
    "\n",
    "Convert Energy Supply to gigajoules (Note: there are 1,000,000 gigajoules in a petajoule). For all countries which have missing data (e.g. data with \"...\") make sure this is reflected as np.NaN values.\n",
    "\n",
    "Rename the following list of countries (for use in later questions):\n",
    "\n",
    "\"Republic of Korea\": \"South Korea\", \"United States of America\": \"United States\", \"United Kingdom of Great Britain and Northern Ireland\": \"United Kingdom\", \"China, Hong Kong Special Administrative Region\": \"Hong Kong\"\n",
    "\n",
    "There are also several countries with parenthesis in their name. Be sure to remove these, e.g. 'Bolivia (Plurinational State of)' should be 'Bolivia'. Additionally, there are several countries with Numeric digits in their name. Make sure to remove these as well, e.g. 'Italy9' should be 'Italy'.\n",
    "\n",
    "Next, load the GDP data from the file assets/world_bank.csv, which is a csv containing countries' GDP from 1960 to 2015 from World Bank. Call this DataFrame GDP.\n",
    "\n",
    "Make sure to skip the header, and rename the following list of countries:\n",
    "\n",
    "\"Korea, Rep.\": \"South Korea\",  \"Iran, Islamic Rep.\": \"Iran\", \"Hong Kong SAR, China\": \"Hong Kong\"\n",
    "\n",
    "Finally, load the Sciamgo Journal and Country Rank data for Energy Engineering and Power Technology from the file assets/scimagojr-3.xlsx, which ranks countries based on their journal contributions in the aforementioned area. Call this DataFrame ScimEn.\n",
    "\n",
    "Join the three datasets: GDP, Energy, and ScimEn into a new dataset (using the intersection of country names). Use only the last 10 years (2006-2015) of GDP data and only the top 15 countries by Scimagojr 'Rank' (Rank 1 through 15).\n",
    "\n",
    "The index of this DataFrame should be the name of the country, and the columns should be ['Rank', 'Documents', 'Citable documents', 'Citations', 'Self-citations', 'Citations per document', 'H index', 'Energy Supply', 'Energy Supply per Capita', '% Renewable', '2006', '2007', '2008', '2009', '2010', '2011', '2012', '2013', '2014', '2015'].\n",
    "\n",
    "This function should return a DataFrame with 20 columns and 15 entries, and the rows of the DataFrame should be sorted by \"Rank\"."
   ]
  },
  {
   "cell_type": "code",
   "execution_count": null,
   "metadata": {},
   "outputs": [],
   "source": [
    "def answer_one():\n",
    "    # YOUR CODE HERE\n",
    "    Energy = pd.read_excel('assets/Energy Indicators.xls', skiprows=17,skipfooter=38)\n",
    "    Energy = Energy[['Unnamed: 1','Petajoules','Gigajoules','%']]\n",
    "    Energy.columns = ['Country', 'Energy Supply', 'Energy Supply per Capita', '% Renewable']\n",
    "    Energy[['Energy Supply', 'Energy Supply per Capita', '% Renewable']] =  Energy[['Energy Supply', 'Energy Supply per Capita', '% Renewable']].replace('...',np.NaN).apply(pd.to_numeric)\n",
    "    Energy['Energy Supply'] = Energy['Energy Supply']*1000000\n",
    "    Energy['Country'] = Energy['Country'].replace({'China, Hong Kong Special Administrative Region':'Hong Kong',\n",
    "                                                   'United Kingdom of Great Britain and Northern Ireland':'United Kingdom',\n",
    "                                                   'Republic of Korea':'South Korea','United States of America':'United States',})\n",
    "    \n",
    "    Energy['Country'] = Energy['Country'].str.replace(r\" \\(.*\\)\",\"\")   # Remove parentheses\n",
    "    Energy['Country'] = Energy['Country'].str.replace(r\"\\d+\", \"\")  # Remove numeric digits\n",
    "    Energy['Country'] = Energy['Country'].str.strip()\n",
    "    \n",
    "    # Load world_bank.csv\n",
    "    GDP = pd.read_csv('assets/world_bank.csv', skiprows=4)\n",
    "    GDP['Country Name'] = GDP['Country Name'].replace({\"Korea, Rep.\": \"South Korea\",\n",
    "                                                       \"Iran, Islamic Rep.\": \"Iran\",\n",
    "                                                       \"Hong Kong SAR, China\": \"Hong Kong\"})\n",
    "    \n",
    "    GDP = GDP[['Country Name','2006','2007','2008','2009','2010','2011','2012','2013','2014','2015']]\n",
    "    GDP.columns = ['Country','2006','2007','2008','2009','2010','2011','2012','2013','2014','2015']\n",
    "    \n",
    "    # Load scimagojr-3.xlsx\n",
    "    ScimEn = pd.read_excel('assets/scimagojr-3.xlsx')\n",
    "    ScimEn_m = ScimEn[:17]\n",
    "    \n",
    "    # Merge dataframes\n",
    "    df = pd.merge(ScimEn_m,Energy,how='inner',left_on='Country',right_on='Country')\n",
    "    final_df = pd.merge(df,GDP,how='inner',left_on='Country',right_on='Country')\n",
    "    final_df = final_df.set_index('Country')\n",
    "    \n",
    "    return final_df\n",
    "    raise NotImplementedError()\n",
    "\n",
    "answer_one()"
   ]
  },
  {
   "cell_type": "code",
   "execution_count": null,
   "metadata": {},
   "outputs": [],
   "source": [
    "assert type(answer_one()) == pd.DataFrame, \"Q1: You should return a DataFrame!\"\n",
    "\n",
    "assert answer_one().shape == (15,20), \"Q1: Your DataFrame should have 20 columns and 15 entries!\""
   ]
  },
  {
   "cell_type": "markdown",
   "metadata": {},
   "source": [
    "### Question 2\n",
    "The previous question joined three datasets then reduced this to just the top 15 entries. When you joined the datasets, but before you reduced this to the top 15 items, how many entries did you lose?\n",
    "\n",
    "This function should return a single number."
   ]
  },
  {
   "cell_type": "code",
   "execution_count": null,
   "metadata": {},
   "outputs": [],
   "source": [
    "%%HTML\n",
    "\n",
    "<svg width=\"800\" height=\"300\">\n",
    "  <circle cx=\"150\" cy=\"180\" r=\"80\" fill-opacity=\"0.2\" stroke=\"black\" stroke-width=\"2\" fill=\"blue\" />\n",
    "  <circle cx=\"200\" cy=\"100\" r=\"80\" fill-opacity=\"0.2\" stroke=\"black\" stroke-width=\"2\" fill=\"red\" />\n",
    "  <circle cx=\"100\" cy=\"100\" r=\"80\" fill-opacity=\"0.2\" stroke=\"black\" stroke-width=\"2\" fill=\"green\" />\n",
    "  <line x1=\"150\" y1=\"125\" x2=\"300\" y2=\"150\" stroke=\"black\" stroke-width=\"2\" fill=\"black\" stroke-dasharray=\"5,3\"/>\n",
    "  <text x=\"300\" y=\"165\" font-family=\"Verdana\" font-size=\"35\">Everything but this!</text>\n",
    "</svg>"
   ]
  },
  {
   "cell_type": "code",
   "execution_count": null,
   "metadata": {},
   "outputs": [],
   "source": [
    "def answer_two():\n",
    "    # YOUR CODE HERE\n",
    "    raise NotImplementedError()"
   ]
  },
  {
   "cell_type": "code",
   "execution_count": null,
   "metadata": {},
   "outputs": [],
   "source": [
    "assert type(answer_two()) == int, \"Q2: You should return an int number!\""
   ]
  }
 ],
 "metadata": {
  "kernelspec": {
   "display_name": "Python 3",
   "language": "python",
   "name": "python3"
  },
  "language_info": {
   "codemirror_mode": {
    "name": "ipython",
    "version": 3
   },
   "file_extension": ".py",
   "mimetype": "text/x-python",
   "name": "python",
   "nbconvert_exporter": "python",
   "pygments_lexer": "ipython3",
   "version": "3.10.11"
  }
 },
 "nbformat": 4,
 "nbformat_minor": 2
}
