{
 "cells": [
  {
   "cell_type": "code",
   "execution_count": 1,
   "metadata": {},
   "outputs": [
    {
     "name": "stdout",
     "output_type": "stream",
     "text": [
      "         Plaza ID        Date  Hour Direction  # Vehicles - E-ZPass   \n",
      "0              21  08/06/2022     0         I                  2820  \\\n",
      "1              21  08/06/2022     1         I                  2124   \n",
      "2              21  08/06/2022     2         I                  1617   \n",
      "3              21  08/06/2022     3         I                  1228   \n",
      "4              21  08/06/2022     4         I                  1604   \n",
      "...           ...         ...   ...       ...                   ...   \n",
      "1936271        11  01/01/2010    19         I                  2675   \n",
      "1936272        11  01/01/2010    20         I                  2580   \n",
      "1936273        11  01/01/2010    21         I                  2302   \n",
      "1936274        11  01/01/2010    22         I                  2170   \n",
      "1936275        11  01/01/2010    23         I                  1837   \n",
      "\n",
      "         # Vehicles - VToll  \n",
      "0                       649  \n",
      "1                       474  \n",
      "2                       391  \n",
      "3                       358  \n",
      "4                       368  \n",
      "...                     ...  \n",
      "1936271                1152  \n",
      "1936272                1086  \n",
      "1936273                 987  \n",
      "1936274                 910  \n",
      "1936275                 706  \n",
      "\n",
      "[1936276 rows x 6 columns]\n"
     ]
    }
   ],
   "source": [
    "import numpy as np \n",
    "import matplotlib.pyplot as plt\n",
    "import pandas as pd\n",
    "\n",
    "df = pd.read_csv('../datasets/NYC hourly traffic.csv')\n",
    "\n",
    "print(df)"
   ]
  },
  {
   "cell_type": "code",
   "execution_count": 15,
   "metadata": {},
   "outputs": [
    {
     "name": "stdout",
     "output_type": "stream",
     "text": [
      "               Date  Hour  # Vehicles - E-ZPass  # Vehicles - VToll\n",
      "0        08/06/2022     0                  2820                 649\n",
      "1        08/06/2022     1                  2124                 474\n",
      "2        08/06/2022     2                  1617                 391\n",
      "3        08/06/2022     3                  1228                 358\n",
      "4        08/06/2022     4                  1604                 368\n",
      "...             ...   ...                   ...                 ...\n",
      "1936271  01/01/2010    19                  2675                1152\n",
      "1936272  01/01/2010    20                  2580                1086\n",
      "1936273  01/01/2010    21                  2302                 987\n",
      "1936274  01/01/2010    22                  2170                 910\n",
      "1936275  01/01/2010    23                  1837                 706\n",
      "\n",
      "[1936276 rows x 4 columns]\n"
     ]
    }
   ],
   "source": [
    "#Hago una copia del dataframe original\n",
    "df_1 = df.copy()\n",
    "\n",
    "#Elijo las columnas date, hora, # Vehicles - E-ZPass y # Vehicles - VToll\n",
    "df_1 = df_1.copy()\n",
    "df_1 = df[['Date', 'Hour', '# Vehicles - E-ZPass', '# Vehicles - VToll']]\n",
    "print(df_1)"
   ]
  },
  {
   "cell_type": "code",
   "execution_count": null,
   "metadata": {},
   "outputs": [],
   "source": []
  }
 ],
 "metadata": {
  "kernelspec": {
   "display_name": "Python 3",
   "language": "python",
   "name": "python3"
  },
  "language_info": {
   "codemirror_mode": {
    "name": "ipython",
    "version": 3
   },
   "file_extension": ".py",
   "mimetype": "text/x-python",
   "name": "python",
   "nbconvert_exporter": "python",
   "pygments_lexer": "ipython3",
   "version": "3.10.11"
  }
 },
 "nbformat": 4,
 "nbformat_minor": 2
}
